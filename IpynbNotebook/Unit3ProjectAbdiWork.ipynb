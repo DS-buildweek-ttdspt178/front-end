{
 "nbformat": 4,
 "nbformat_minor": 0,
 "metadata": {
  "colab": {
   "name": "Unit3ProjectAbdiWork.ipynb",
   "provenance": [],
   "toc_visible": true
  },
  "kernelspec": {
   "name": "pycharm-b960f201",
   "language": "python",
   "display_name": "PyCharm (Colab Notebooks)"
  }
 },
 "cells": [
  {
   "cell_type": "markdown",
   "metadata": {
    "id": "B13eIazj-ElJ"
   },
   "source": []
  },
  {
   "cell_type": "code",
   "metadata": {
    "id": "HhCviWrJ-DEA"
   },
   "source": [
    "% % capture\n",
    "import sys\n",
    "\n",
    "if 'google.colab' in sys.modules:\n",
    "    # Install packages in Colab\n",
    "    !pip install category_encoders == 2. *\n",
    "\n",
    "# If you're working locally:\n",
    "else:\n",
    "    DATA_PATH = '../data/'"
   ],
   "execution_count": 62,
   "outputs": []
  },
  {
   "cell_type": "code",
   "metadata": {
    "id": "39lxxizE4PqX",
    "colab": {
     "base_uri": "https://localhost:8080/"
    },
    "outputId": "1992bc8f-51b4-4684-f461-8572434060d8"
   },
   "source": [
    "#import our libraries here\n",
    "% matplotlib inline\n",
    "import numpy as np\n",
    "import pandas as pd\n",
    "import matplotlib.pyplot as plt\n",
    "import seaborn as sns\n",
    "\n",
    "import category_encoders as ce\n",
    "from sklearn.impute import SimpleImputer\n",
    "from sklearn.metrics import accuracy_score\n",
    "from sklearn.model_selection import train_test_split\n",
    "from sklearn.linear_model import LinearRegression\n",
    "from sklearn.pipeline import make_pipeline\n",
    "from sklearn.ensemble import RandomForestClassifier\n",
    "from sklearn.feature_selection import f_regression, SelectKBest\n",
    "from sklearn.preprocessing import StandardScaler\n",
    "from sklearn.metrics import plot_confusion_matrix\n",
    "from sklearn.metrics import r2_score, mean_squared_error"
   ],
   "execution_count": 63,
   "outputs": []
  },
  {
   "cell_type": "code",
   "metadata": {
    "colab": {
     "base_uri": "https://localhost:8080/"
    },
    "id": "Du200uMb8p_V",
    "outputId": "0bdd1f49-f41e-4617-9106-ee3b7fc31c0d"
   },
   "source": [
    "!wget https: // raw.githubusercontent.com / DS-buildweek-ttdspt178 / front-end / new-features / Data / AB_US_2020.csv"
   ],
   "execution_count": 64,
   "outputs": [
    {
     "name": "stdout",
     "output_type": "stream",
     "text": [
      "--2021-04-26 00:31:34--  https://raw.githubusercontent.com/DS-buildweek-ttdspt178/front-end/new-features/Data/AB_US_2020.csv\r\n",
      "Resolving raw.githubusercontent.com (raw.githubusercontent.com)... 185.199.108.133, 185.199.109.133, 185.199.111.133, ...\r\n",
      "Connecting to raw.githubusercontent.com (raw.githubusercontent.com)|185.199.108.133|:443... connected.\r\n",
      "HTTP request sent, awaiting response... 200 OK\r\n",
      "Length: 35857419 (34M) [text/plain]\r\n",
      "Saving to: ‘AB_US_2020.csv.3’\r\n",
      "\r\n",
      "AB_US_2020.csv.3    100%[===================>]  34.20M  8.81MB/s    in 4.9s    \r\n",
      "\r\n",
      "2021-04-26 00:31:40 (7.05 MB/s) - ‘AB_US_2020.csv.3’ saved [35857419/35857419]\r\n",
      "\r\n"
     ]
    }
   ]
  },
  {
   "cell_type": "code",
   "metadata": {
    "id": "9lV83hJg1Duo",
    "colab": {
     "base_uri": "https://localhost:8080/"
    },
    "outputId": "15f7bb82-f225-4d0d-d0b1-8ea7d362a452"
   },
   "source": [
    "df = pd.read_csv('AB_US_2020.csv')"
   ],
   "execution_count": 65,
   "outputs": [
    {
     "name": "stderr",
     "output_type": "stream",
     "text": [
      "/home/rob-rog/deps/anaconda3/lib/python3.8/site-packages/IPython/core/interactiveshell.py:3146: DtypeWarning: Columns (4) have mixed types.Specify dtype option on import or set low_memory=False.\n",
      "  has_raised = await self.run_ast_nodes(code_ast.body, cell_name,\n"
     ]
    }
   ]
  },
  {
   "cell_type": "code",
   "metadata": {
    "id": "cn_3YSBF1D5x",
    "colab": {
     "base_uri": "https://localhost:8080/",
     "height": 343
    },
    "outputId": "725c1ba6-bca0-489a-e2dd-26da4c117e07"
   },
   "source": [
    "#lets see the first 5 rows\n",
    "df.head()"
   ],
   "execution_count": 66,
   "outputs": [
    {
     "data": {
      "text/plain": "       id                                               name  host_id  \\\n0   38585    Charming Victorian home - twin beds + breakfast   165529   \n1   80905                                   French Chic Loft   427027   \n2  108061  Walk to stores/parks/downtown. Fenced yard/Pet...   320564   \n3  155305                 Cottage! BonPaul + Sharky's Hostel   746673   \n4  160594                                Historic Grove Park   769252   \n\n   host_name neighbourhood_group neighbourhood  latitude  longitude  \\\n0    Evelyne                 NaN         28804  35.65146  -82.62792   \n1    Celeste                 NaN         28801  35.59779  -82.55540   \n2       Lisa                 NaN         28801  35.60670  -82.55563   \n3    BonPaul                 NaN         28806  35.57864  -82.59578   \n4  Elizabeth                 NaN         28801  35.61442  -82.54127   \n\n         room_type  price  minimum_nights  number_of_reviews last_review  \\\n0     Private room     60               1                138    16/02/20   \n1  Entire home/apt    470               1                114    07/09/20   \n2  Entire home/apt     75              30                 89    30/11/19   \n3  Entire home/apt     90               1                267    22/09/20   \n4     Private room    125              30                 58    19/10/15   \n\n   reviews_per_month  calculated_host_listings_count  availability_365  \\\n0               1.14                               1                 0   \n1               1.03                              11               288   \n2               0.81                               2               298   \n3               2.39                               5                 0   \n4               0.52                               1                 0   \n\n        city  \n0  Asheville  \n1  Asheville  \n2  Asheville  \n3  Asheville  \n4  Asheville  ",
      "text/html": "<div>\n<style scoped>\n    .dataframe tbody tr th:only-of-type {\n        vertical-align: middle;\n    }\n\n    .dataframe tbody tr th {\n        vertical-align: top;\n    }\n\n    .dataframe thead th {\n        text-align: right;\n    }\n</style>\n<table border=\"1\" class=\"dataframe\">\n  <thead>\n    <tr style=\"text-align: right;\">\n      <th></th>\n      <th>id</th>\n      <th>name</th>\n      <th>host_id</th>\n      <th>host_name</th>\n      <th>neighbourhood_group</th>\n      <th>neighbourhood</th>\n      <th>latitude</th>\n      <th>longitude</th>\n      <th>room_type</th>\n      <th>price</th>\n      <th>minimum_nights</th>\n      <th>number_of_reviews</th>\n      <th>last_review</th>\n      <th>reviews_per_month</th>\n      <th>calculated_host_listings_count</th>\n      <th>availability_365</th>\n      <th>city</th>\n    </tr>\n  </thead>\n  <tbody>\n    <tr>\n      <th>0</th>\n      <td>38585</td>\n      <td>Charming Victorian home - twin beds + breakfast</td>\n      <td>165529</td>\n      <td>Evelyne</td>\n      <td>NaN</td>\n      <td>28804</td>\n      <td>35.65146</td>\n      <td>-82.62792</td>\n      <td>Private room</td>\n      <td>60</td>\n      <td>1</td>\n      <td>138</td>\n      <td>16/02/20</td>\n      <td>1.14</td>\n      <td>1</td>\n      <td>0</td>\n      <td>Asheville</td>\n    </tr>\n    <tr>\n      <th>1</th>\n      <td>80905</td>\n      <td>French Chic Loft</td>\n      <td>427027</td>\n      <td>Celeste</td>\n      <td>NaN</td>\n      <td>28801</td>\n      <td>35.59779</td>\n      <td>-82.55540</td>\n      <td>Entire home/apt</td>\n      <td>470</td>\n      <td>1</td>\n      <td>114</td>\n      <td>07/09/20</td>\n      <td>1.03</td>\n      <td>11</td>\n      <td>288</td>\n      <td>Asheville</td>\n    </tr>\n    <tr>\n      <th>2</th>\n      <td>108061</td>\n      <td>Walk to stores/parks/downtown. Fenced yard/Pet...</td>\n      <td>320564</td>\n      <td>Lisa</td>\n      <td>NaN</td>\n      <td>28801</td>\n      <td>35.60670</td>\n      <td>-82.55563</td>\n      <td>Entire home/apt</td>\n      <td>75</td>\n      <td>30</td>\n      <td>89</td>\n      <td>30/11/19</td>\n      <td>0.81</td>\n      <td>2</td>\n      <td>298</td>\n      <td>Asheville</td>\n    </tr>\n    <tr>\n      <th>3</th>\n      <td>155305</td>\n      <td>Cottage! BonPaul + Sharky's Hostel</td>\n      <td>746673</td>\n      <td>BonPaul</td>\n      <td>NaN</td>\n      <td>28806</td>\n      <td>35.57864</td>\n      <td>-82.59578</td>\n      <td>Entire home/apt</td>\n      <td>90</td>\n      <td>1</td>\n      <td>267</td>\n      <td>22/09/20</td>\n      <td>2.39</td>\n      <td>5</td>\n      <td>0</td>\n      <td>Asheville</td>\n    </tr>\n    <tr>\n      <th>4</th>\n      <td>160594</td>\n      <td>Historic Grove Park</td>\n      <td>769252</td>\n      <td>Elizabeth</td>\n      <td>NaN</td>\n      <td>28801</td>\n      <td>35.61442</td>\n      <td>-82.54127</td>\n      <td>Private room</td>\n      <td>125</td>\n      <td>30</td>\n      <td>58</td>\n      <td>19/10/15</td>\n      <td>0.52</td>\n      <td>1</td>\n      <td>0</td>\n      <td>Asheville</td>\n    </tr>\n  </tbody>\n</table>\n</div>"
     },
     "execution_count": 66,
     "metadata": {},
     "output_type": "execute_result"
    }
   ]
  },
  {
   "cell_type": "code",
   "metadata": {
    "id": "_65inrqK1D8k",
    "colab": {
     "base_uri": "https://localhost:8080/"
    },
    "outputId": "f4834924-0e51-42dc-8ed7-cb65c7b80051"
   },
   "source": [
    "#check for missing values\n",
    "df.isnull().sum()"
   ],
   "execution_count": 67,
   "outputs": [
    {
     "data": {
      "text/plain": "id                                     0\nname                                  28\nhost_id                                0\nhost_name                             33\nneighbourhood_group               115845\nneighbourhood                          0\nlatitude                               0\nlongitude                              0\nroom_type                              0\nprice                                  0\nminimum_nights                         0\nnumber_of_reviews                      0\nlast_review                        48602\nreviews_per_month                  48602\ncalculated_host_listings_count         0\navailability_365                       0\ncity                                   0\ndtype: int64"
     },
     "execution_count": 67,
     "metadata": {},
     "output_type": "execute_result"
    }
   ]
  },
  {
   "cell_type": "code",
   "metadata": {
    "id": "A5ZVk_7R1D_Q"
   },
   "source": [
    "#remove NaN values from dataframe\n",
    "original = len(df)\n",
    "df = df.dropna(how='any', subset=['name', 'host_name', 'neighbourhood_group',\n",
    "                                  'last_review', 'reviews_per_month'])\n",
    "# print 'Number of NaN values removed:',original - len(df)"
   ],
   "execution_count": 68,
   "outputs": []
  },
  {
   "cell_type": "code",
   "metadata": {
    "colab": {
     "base_uri": "https://localhost:8080/"
    },
    "id": "A9aeOpM-1TeN",
    "outputId": "50373c81-e816-4bc5-94d4-129831d6d3ed"
   },
   "source": [
    "df.dtypes"
   ],
   "execution_count": 69,
   "outputs": [
    {
     "data": {
      "text/plain": "id                                  int64\nname                               object\nhost_id                             int64\nhost_name                          object\nneighbourhood_group                object\nneighbourhood                      object\nlatitude                          float64\nlongitude                         float64\nroom_type                          object\nprice                               int64\nminimum_nights                      int64\nnumber_of_reviews                   int64\nlast_review                        object\nreviews_per_month                 float64\ncalculated_host_listings_count      int64\navailability_365                    int64\ncity                               object\ndtype: object"
     },
     "execution_count": 69,
     "metadata": {},
     "output_type": "execute_result"
    }
   ]
  },
  {
   "cell_type": "code",
   "metadata": {
    "colab": {
     "base_uri": "https://localhost:8080/"
    },
    "id": "qnK9s8If0Efi",
    "outputId": "c1734d6c-c9af-4fab-c05c-3c11b0481cc7"
   },
   "source": [
    "#check for null values\n",
    "df.isnull().sum()"
   ],
   "execution_count": 70,
   "outputs": [
    {
     "data": {
      "text/plain": "id                                0\nname                              0\nhost_id                           0\nhost_name                         0\nneighbourhood_group               0\nneighbourhood                     0\nlatitude                          0\nlongitude                         0\nroom_type                         0\nprice                             0\nminimum_nights                    0\nnumber_of_reviews                 0\nlast_review                       0\nreviews_per_month                 0\ncalculated_host_listings_count    0\navailability_365                  0\ncity                              0\ndtype: int64"
     },
     "execution_count": 70,
     "metadata": {},
     "output_type": "execute_result"
    }
   ]
  },
  {
   "cell_type": "code",
   "metadata": {
    "colab": {
     "base_uri": "https://localhost:8080/",
     "height": 326
    },
    "id": "12i2Bfeg0Eic",
    "outputId": "81d3cd96-b819-4fe3-f576-bb436d1f6abe"
   },
   "source": [
    "#check for the last 5 rows\n",
    "df.tail()"
   ],
   "execution_count": 71,
   "outputs": [
    {
     "data": {
      "text/plain": "              id                                               name  \\\n212157  43531859              Chic Seattle Apartment near Greenlake   \n212159  43554835  SL6 - Private¬∑Modern¬∑Quality¬∑Convenient¬∑N ...   \n212160  43554849  SL4 - Modern,Private,Quality,Convenient,N Seattle   \n212161  43589616     Perfect spot for group events or family stays!   \n212164  43603849               Rooftop Tent in the Heart of Seattle   \n\n          host_id host_name  neighbourhood_group    neighbourhood  latitude  \\\n212157    6601753    Isabel  Other neighborhoods        Roosevelt  47.68457   \n212159  287025852        Li            Lake City    Olympic Hills  47.73462   \n212160  287025852        Li            Lake City    Olympic Hills  47.73357   \n212161  347974040    Marcus             Delridge    Highland Park  47.51284   \n212164   51816582       Fei           Queen Anne  East Queen Anne  47.63913   \n\n        longitude        room_type  price  minimum_nights  number_of_reviews  \\\n212157 -122.31550  Entire home/apt    100               3                  1   \n212159 -122.29509     Private room     79               1                  2   \n212160 -122.29651  Entire home/apt     79               1                  1   \n212161 -122.33587  Entire home/apt    200               1                  2   \n212164 -122.34293     Private room     35               1                  2   \n\n       last_review  reviews_per_month  calculated_host_listings_count  \\\n212157    06/06/20                1.0                               1   \n212159    10/06/20                2.0                               3   \n212160    13/06/20                1.0                               3   \n212161    14/06/20                2.0                               1   \n212164    14/06/20                2.0                               2   \n\n        availability_365     city  \n212157                99  Seattle  \n212159               337  Seattle  \n212160               351  Seattle  \n212161               330  Seattle  \n212164                 0  Seattle  ",
      "text/html": "<div>\n<style scoped>\n    .dataframe tbody tr th:only-of-type {\n        vertical-align: middle;\n    }\n\n    .dataframe tbody tr th {\n        vertical-align: top;\n    }\n\n    .dataframe thead th {\n        text-align: right;\n    }\n</style>\n<table border=\"1\" class=\"dataframe\">\n  <thead>\n    <tr style=\"text-align: right;\">\n      <th></th>\n      <th>id</th>\n      <th>name</th>\n      <th>host_id</th>\n      <th>host_name</th>\n      <th>neighbourhood_group</th>\n      <th>neighbourhood</th>\n      <th>latitude</th>\n      <th>longitude</th>\n      <th>room_type</th>\n      <th>price</th>\n      <th>minimum_nights</th>\n      <th>number_of_reviews</th>\n      <th>last_review</th>\n      <th>reviews_per_month</th>\n      <th>calculated_host_listings_count</th>\n      <th>availability_365</th>\n      <th>city</th>\n    </tr>\n  </thead>\n  <tbody>\n    <tr>\n      <th>212157</th>\n      <td>43531859</td>\n      <td>Chic Seattle Apartment near Greenlake</td>\n      <td>6601753</td>\n      <td>Isabel</td>\n      <td>Other neighborhoods</td>\n      <td>Roosevelt</td>\n      <td>47.68457</td>\n      <td>-122.31550</td>\n      <td>Entire home/apt</td>\n      <td>100</td>\n      <td>3</td>\n      <td>1</td>\n      <td>06/06/20</td>\n      <td>1.0</td>\n      <td>1</td>\n      <td>99</td>\n      <td>Seattle</td>\n    </tr>\n    <tr>\n      <th>212159</th>\n      <td>43554835</td>\n      <td>SL6 - Private¬∑Modern¬∑Quality¬∑Convenient¬∑N ...</td>\n      <td>287025852</td>\n      <td>Li</td>\n      <td>Lake City</td>\n      <td>Olympic Hills</td>\n      <td>47.73462</td>\n      <td>-122.29509</td>\n      <td>Private room</td>\n      <td>79</td>\n      <td>1</td>\n      <td>2</td>\n      <td>10/06/20</td>\n      <td>2.0</td>\n      <td>3</td>\n      <td>337</td>\n      <td>Seattle</td>\n    </tr>\n    <tr>\n      <th>212160</th>\n      <td>43554849</td>\n      <td>SL4 - Modern,Private,Quality,Convenient,N Seattle</td>\n      <td>287025852</td>\n      <td>Li</td>\n      <td>Lake City</td>\n      <td>Olympic Hills</td>\n      <td>47.73357</td>\n      <td>-122.29651</td>\n      <td>Entire home/apt</td>\n      <td>79</td>\n      <td>1</td>\n      <td>1</td>\n      <td>13/06/20</td>\n      <td>1.0</td>\n      <td>3</td>\n      <td>351</td>\n      <td>Seattle</td>\n    </tr>\n    <tr>\n      <th>212161</th>\n      <td>43589616</td>\n      <td>Perfect spot for group events or family stays!</td>\n      <td>347974040</td>\n      <td>Marcus</td>\n      <td>Delridge</td>\n      <td>Highland Park</td>\n      <td>47.51284</td>\n      <td>-122.33587</td>\n      <td>Entire home/apt</td>\n      <td>200</td>\n      <td>1</td>\n      <td>2</td>\n      <td>14/06/20</td>\n      <td>2.0</td>\n      <td>1</td>\n      <td>330</td>\n      <td>Seattle</td>\n    </tr>\n    <tr>\n      <th>212164</th>\n      <td>43603849</td>\n      <td>Rooftop Tent in the Heart of Seattle</td>\n      <td>51816582</td>\n      <td>Fei</td>\n      <td>Queen Anne</td>\n      <td>East Queen Anne</td>\n      <td>47.63913</td>\n      <td>-122.34293</td>\n      <td>Private room</td>\n      <td>35</td>\n      <td>1</td>\n      <td>2</td>\n      <td>14/06/20</td>\n      <td>2.0</td>\n      <td>2</td>\n      <td>0</td>\n      <td>Seattle</td>\n    </tr>\n  </tbody>\n</table>\n</div>"
     },
     "execution_count": 71,
     "metadata": {},
     "output_type": "execute_result"
    }
   ]
  },
  {
   "cell_type": "markdown",
   "metadata": {
    "id": "1LOTTle64zYL"
   },
   "source": [
    "###Train test Split here"
   ]
  },
  {
   "cell_type": "code",
   "metadata": {
    "colab": {
     "base_uri": "https://localhost:8080/"
    },
    "id": "yolN02Od9nGx",
    "outputId": "3029e83f-b955-4c3e-9833-34d6ba43baf9"
   },
   "source": [
    "#lets do the train test split here\n",
    "train, test = train_test_split(df, train_size=0.80, test_size=0.20,\n",
    "                               random_state=42)\n",
    "train.shape, test.shape"
   ],
   "execution_count": 72,
   "outputs": [
    {
     "data": {
      "text/plain": "((68115, 17), (17029, 17))"
     },
     "execution_count": 72,
     "metadata": {},
     "output_type": "execute_result"
    }
   ]
  },
  {
   "cell_type": "code",
   "metadata": {
    "colab": {
     "base_uri": "https://localhost:8080/"
    },
    "id": "Hx8SQfPTkzBM",
    "outputId": "5396f693-76ad-4f5e-e3ab-940ddc28eec1"
   },
   "source": [
    "target = 'price'\n",
    "guess = df[target].mean()\n",
    "print('{:,.2f}'.format(guess))"
   ],
   "execution_count": 73,
   "outputs": [
    {
     "name": "stdout",
     "output_type": "stream",
     "text": [
      "173.86\n"
     ]
    }
   ]
  },
  {
   "cell_type": "code",
   "metadata": {
    "id": "17tbgaUWkdGr",
    "colab": {
     "base_uri": "https://localhost:8080/"
    },
    "outputId": "1fdfd92e-ae50-4b1b-ee2b-b941c3cc64b8"
   },
   "source": [
    "#splitting the data\n",
    "X_train = train.drop(columns=[target, 'name', 'host_name', 'neighbourhood_group',\n",
    "                              'neighbourhood', 'room_type', 'city'])\n",
    "y_train = train[target]\n",
    "X_test = test.drop(columns=[target, 'name', 'host_name', 'neighbourhood_group', 'neighbourhood', 'room_type', 'city'])\n",
    "y_test = test[target]\n",
    "X_train.shape, y_train.shape, X_test.shape, y_test.shape"
   ],
   "execution_count": 74,
   "outputs": [
    {
     "data": {
      "text/plain": "((68115, 10), (68115,), (17029, 10), (17029,))"
     },
     "execution_count": 74,
     "metadata": {},
     "output_type": "execute_result"
    }
   ]
  },
  {
   "cell_type": "code",
   "metadata": {
    "id": "TYMSJFWsGW06",
    "colab": {
     "base_uri": "https://localhost:8080/"
    },
    "outputId": "ed708b35-fe75-4f6c-faed-d68d2addb2c5"
   },
   "source": [
    "#arrange our data here\n",
    "X_train = train.drop(columns=[target, 'name', 'host_name', 'neighbourhood_group', 'neighbourhood',\n",
    "                              'room_type', 'city'])\n",
    "y_train = train[target]\n",
    "X_test = test.drop(columns=[target, 'name', 'host_name', 'neighbourhood_group', 'neighbourhood', 'room_type', 'city'])\n",
    "y_test = test[target]\n",
    "\n",
    "#check the shape \n",
    "X_train.shape, y_train.shape, X_test.shape, y_test.shape"
   ],
   "execution_count": 75,
   "outputs": [
    {
     "data": {
      "text/plain": "((68115, 10), (68115,), (17029, 10), (17029,))"
     },
     "execution_count": 75,
     "metadata": {},
     "output_type": "execute_result"
    }
   ]
  },
  {
   "cell_type": "code",
   "metadata": {
    "id": "OmcnAebShlBq"
   },
   "source": [
    "\n",
    "def __init__(self, model):\n",
    "    self.model = model\n",
    "    self.x_train = None\n",
    "    self.y_train = None\n",
    "    self.x_test = None\n",
    "    self.y_test = None\n",
    "    self.y_pred_train = None\n",
    "    self.y_pred_test = None\n",
    "    self.train_score = None\n",
    "    self.test_score = None\n",
    "    self.train_score_log = None\n",
    "    self.test_score_log = None\n",
    "\n",
    "    def data_split(self, x, y, test_size):\n",
    "        self.x_train, self.x_test, self.y_train, self.y_test = train_test_split(x, y, test_size=test_size)\n",
    "\n",
    "\n",
    "def score_reg(self):\n",
    "    return self.train_score, self.test_score\n",
    "\n",
    "\n",
    "def score_log(self):\n",
    "    self.train_score_log = metrics.r2_score(np.exp(self.y_train), np.exp(self.y_pred_train))\n",
    "    self.test_score_log = metrics.r2_score(np.exp(self.y_test), np.exp(self.y_pred_test))\n",
    "    return self.train_score_log, self.test_score_log\n",
    "\n",
    "\n",
    "def data_frame_convert(self):\n",
    "    df_train = pd.DataFrame({'y_pred': self.y_pred_train, 'y_real': self.y_train})\n",
    "    df_test = pd.DataFrame({'y_pred_test': self.y_pred_test, 'y_real_test': self.y_test})\n",
    "    return self.train_score, self.test_score, df_train, df_test\n",
    "\n",
    "\n",
    "def data_frame_convert_log(self):\n",
    "    df_train = pd.DataFrame({'y_pred': np.exp(self.y_pred_train), 'y_real': np.exp(self.y_train)})\n",
    "    df_test = pd.DataFrame({'y_pred_test': np.exp(self.y_pred_test), 'y_real_test': np.exp(self.y_test)})\n",
    "    return self.train_score_log, self.test_score_log, df_train, df_test\n",
    "\n",
    "\n",
    "def fit_model(self, x, y, test_size):\n",
    "    self.data_split(x, y, test_size)\n",
    "    self.model = self.model.fit(self.x_train, self.y_train)\n",
    "    self.train_score = self.model.score(self.x_train, self.y_train)\n",
    "    self.test_score = self.model.score(self.x_test, self.y_test)\n",
    "    self.y_pred_train = self.model.predict(self.x_train)\n",
    "    self.y_pred_test = self.model.predict(self.x_test)\n",
    "\n",
    "# def model_iterations(n, x, y, model_arg, log_bool=False):\n",
    "#   training_scores = [None]*n\n",
    "#   testing_scores = [None]*n\n",
    "\n",
    "# for i in range(n):\n",
    "#     new_model = model(model_arg)\n",
    "#     new_model.fit_model(x, y, 0.3)\n",
    "#     training_scores[i], testing_scores[i] = new_model.score_reg() if not log_bool else new_model.score_log()\n",
    "\n",
    "# print ('Mean Train Score:', np.mean(training_scores))\n",
    "# print ('Mean Test Score:', np.mean(testing_scores))\n",
    "# return new_model"
   ],
   "execution_count": 76,
   "outputs": []
  },
  {
   "cell_type": "markdown",
   "metadata": {
    "id": "AWzf2Yau4rbH"
   },
   "source": [
    "###Convert Categorical Variables to dummy integer values here"
   ]
  },
  {
   "cell_type": "code",
   "metadata": {
    "id": "hD0ueIhkF7xS"
   },
   "source": [
    "#arranging the y target vectors\n",
    "target = 'price'\n",
    "y_train = df[target]"
   ],
   "execution_count": 77,
   "outputs": []
  },
  {
   "cell_type": "code",
   "metadata": {
    "id": "QvATC8pmF9Li",
    "colab": {
     "base_uri": "https://localhost:8080/"
    },
    "outputId": "200298be-0947-40f2-97c1-274eef12180f"
   },
   "source": [
    "#Lets make first baseline guess\n",
    "print('Mean baseline(using 0 features)')\n",
    "baseline = y_train.mean()\n",
    "print(baseline)"
   ],
   "execution_count": 78,
   "outputs": [
    {
     "name": "stdout",
     "output_type": "stream",
     "text": [
      "Mean baseline(using 0 features)\n",
      "173.85819317861504\n"
     ]
    }
   ]
  },
  {
   "cell_type": "code",
   "metadata": {
    "id": "Cs9c-ts_GAdd",
    "colab": {
     "base_uri": "https://localhost:8080/"
    },
    "outputId": "1b9042a0-e07c-4f7d-d3f3-0180b4e1016e"
   },
   "source": [
    "#Lets make first baseline guess\n",
    "print('Mean baseline(using 0 features)')\n",
    "baseline = y_train.mean()\n",
    "print(baseline)"
   ],
   "execution_count": 79,
   "outputs": [
    {
     "name": "stdout",
     "output_type": "stream",
     "text": [
      "Mean baseline(using 0 features)\n",
      "173.85819317861504\n"
     ]
    }
   ]
  },
  {
   "cell_type": "code",
   "metadata": {
    "id": "DLNmuf7rGFDT",
    "colab": {
     "base_uri": "https://localhost:8080/"
    },
    "outputId": "09d6118f-9080-4afc-b72f-214dc7abf7e0"
   },
   "source": [
    "from sklearn.metrics import mean_absolute_error, r2_score\n",
    "\n",
    "y_pred = [baseline] * len(y_train)\n",
    "mae = mean_absolute_error(y_train, y_pred)\n",
    "r2 = r2_score(y_train, y_pred)\n",
    "print(mae)\n",
    "print(r2)"
   ],
   "execution_count": 80,
   "outputs": [
    {
     "name": "stdout",
     "output_type": "stream",
     "text": [
      "114.14646497940572\n",
      "0.0\n"
     ]
    }
   ]
  },
  {
   "cell_type": "markdown",
   "metadata": {
    "id": "kNb2NTc15Par"
   },
   "source": [
    "###Simple Regression Model"
   ]
  },
  {
   "cell_type": "code",
   "metadata": {
    "id": "16dvIxma5R0U"
   },
   "source": [
    "#OLS regression\n",
    "# model = LinearRegression(copy_X=True, fit_intercept=True, n_jobs=1, normalize=False)\n",
    "# model.fit(x_train, y_train)\n",
    "# predicted = clf.predict(x_test)\n",
    "\n",
    "# score = sk.metrics.r2_score(y_test, predicted)\n",
    "# print('sklearn: R2 score for Linear Regression is: {}'.format(score))"
   ],
   "execution_count": 81,
   "outputs": []
  },
  {
   "cell_type": "code",
   "metadata": {
    "id": "FYbyPhZb5R3z"
   },
   "source": [],
   "execution_count": 81,
   "outputs": []
  },
  {
   "cell_type": "markdown",
   "metadata": {
    "id": "jaWeNRKvEwOt"
   },
   "source": [
    "---"
   ]
  },
  {
   "cell_type": "code",
   "metadata": {
    "colab": {
     "base_uri": "https://localhost:8080/"
    },
    "id": "Bw5ILhwJGjur",
    "outputId": "9b3cd9e6-b65c-4c03-ceed-372e57cea515"
   },
   "source": [
    "#arrange our data here\n",
    "# X_train = train.drop(columns=[target, 'name','host_name', 'neighbourhood', 'neighbourhood_group', 'last_review'])\n",
    "X_train = train.drop(columns=[target, 'id', 'host_id', 'name', 'host_name', 'neighbourhood', 'last_review'])\n",
    "y_train = train[target]\n",
    "X_test = test.drop(columns=[target, 'id', 'host_id', 'name', 'host_name', 'neighbourhood', 'last_review'])\n",
    "y_test = test[target]\n",
    "\n",
    "#check the shape \n",
    "X_train.shape, y_train.shape, X_test.shape, y_test.shape"
   ],
   "execution_count": 82,
   "outputs": [
    {
     "data": {
      "text/plain": "((68115, 10), (68115,), (17029, 10), (17029,))"
     },
     "execution_count": 82,
     "metadata": {},
     "output_type": "execute_result"
    }
   ]
  },
  {
   "cell_type": "code",
   "execution_count": 83,
   "outputs": [
    {
     "data": {
      "text/plain": "                  id                 name       host_id host_name  \\\ncount   6.811500e+04                68115  6.811500e+04     68115   \nunique           NaN                67096           NaN     14098   \ntop              NaN  Home away from home           NaN   Michael   \nfreq             NaN                   21           NaN       542   \nmean    2.240598e+07                  NaN  8.194389e+07       NaN   \nstd     1.275165e+07                  NaN  9.026877e+07       NaN   \nmin     1.090000e+02                  NaN  5.210000e+02       NaN   \n25%     1.222313e+07                  NaN  1.073794e+07       NaN   \n50%     2.207866e+07                  NaN  4.331589e+07       NaN   \n75%     3.345157e+07                  NaN  1.314708e+08       NaN   \nmax     4.530421e+07                  NaN  3.659646e+08       NaN   \n\n       neighbourhood_group         neighbourhood      latitude     longitude  \\\ncount                68115                 68115  68115.000000  68115.000000   \nunique                  34                   624           NaN           NaN   \ntop              Manhattan  Primary Urban Center           NaN           NaN   \nfreq                 12006                  2547           NaN           NaN   \nmean                   NaN                   NaN     35.374106   -106.259206   \nstd                    NaN                   NaN      8.091471     32.338521   \nmin                    NaN                   NaN     18.920990   -159.714900   \n25%                    NaN                   NaN     33.978665   -122.306880   \n50%                    NaN                   NaN     40.638680   -118.170480   \n75%                    NaN                   NaN     40.746205    -73.955715   \nmax                    NaN                   NaN     47.734620    -71.123420   \n\n              room_type         price  minimum_nights  number_of_reviews  \\\ncount             68115  68115.000000    68115.000000       68115.000000   \nunique                4           NaN             NaN                NaN   \ntop     Entire home/apt           NaN             NaN                NaN   \nfreq              44981           NaN             NaN                NaN   \nmean                NaN    174.439521       10.123996          37.759554   \nstd                 NaN    309.145709       24.162486          61.892276   \nmin                 NaN      0.000000        1.000000           1.000000   \n25%                 NaN     75.000000        2.000000           3.000000   \n50%                 NaN    119.000000        3.000000          12.000000   \n75%                 NaN    190.000000        7.000000          44.000000   \nmax                 NaN  24999.000000     1250.000000         840.000000   \n\n       last_review  reviews_per_month  calculated_host_listings_count  \\\ncount        68115       68115.000000                    68115.000000   \nunique        2213                NaN                             NaN   \ntop       07/09/20                NaN                             NaN   \nfreq           797                NaN                             NaN   \nmean           NaN           1.154306                       12.256419   \nstd            NaN           1.463953                       36.338795   \nmin            NaN           0.010000                        1.000000   \n25%            NaN           0.170000                        1.000000   \n50%            NaN           0.560000                        1.000000   \n75%            NaN           1.630000                        4.000000   \nmax            NaN          33.620000                      284.000000   \n\n        availability_365           city  \ncount       68115.000000          68115  \nunique               NaN              5  \ntop                  NaN  New York City  \nfreq                 NaN          28078  \nmean          157.939632            NaN  \nstd           141.279766            NaN  \nmin             0.000000            NaN  \n25%             0.000000            NaN  \n50%           142.000000            NaN  \n75%           309.000000            NaN  \nmax           365.000000            NaN  ",
      "text/html": "<div>\n<style scoped>\n    .dataframe tbody tr th:only-of-type {\n        vertical-align: middle;\n    }\n\n    .dataframe tbody tr th {\n        vertical-align: top;\n    }\n\n    .dataframe thead th {\n        text-align: right;\n    }\n</style>\n<table border=\"1\" class=\"dataframe\">\n  <thead>\n    <tr style=\"text-align: right;\">\n      <th></th>\n      <th>id</th>\n      <th>name</th>\n      <th>host_id</th>\n      <th>host_name</th>\n      <th>neighbourhood_group</th>\n      <th>neighbourhood</th>\n      <th>latitude</th>\n      <th>longitude</th>\n      <th>room_type</th>\n      <th>price</th>\n      <th>minimum_nights</th>\n      <th>number_of_reviews</th>\n      <th>last_review</th>\n      <th>reviews_per_month</th>\n      <th>calculated_host_listings_count</th>\n      <th>availability_365</th>\n      <th>city</th>\n    </tr>\n  </thead>\n  <tbody>\n    <tr>\n      <th>count</th>\n      <td>6.811500e+04</td>\n      <td>68115</td>\n      <td>6.811500e+04</td>\n      <td>68115</td>\n      <td>68115</td>\n      <td>68115</td>\n      <td>68115.000000</td>\n      <td>68115.000000</td>\n      <td>68115</td>\n      <td>68115.000000</td>\n      <td>68115.000000</td>\n      <td>68115.000000</td>\n      <td>68115</td>\n      <td>68115.000000</td>\n      <td>68115.000000</td>\n      <td>68115.000000</td>\n      <td>68115</td>\n    </tr>\n    <tr>\n      <th>unique</th>\n      <td>NaN</td>\n      <td>67096</td>\n      <td>NaN</td>\n      <td>14098</td>\n      <td>34</td>\n      <td>624</td>\n      <td>NaN</td>\n      <td>NaN</td>\n      <td>4</td>\n      <td>NaN</td>\n      <td>NaN</td>\n      <td>NaN</td>\n      <td>2213</td>\n      <td>NaN</td>\n      <td>NaN</td>\n      <td>NaN</td>\n      <td>5</td>\n    </tr>\n    <tr>\n      <th>top</th>\n      <td>NaN</td>\n      <td>Home away from home</td>\n      <td>NaN</td>\n      <td>Michael</td>\n      <td>Manhattan</td>\n      <td>Primary Urban Center</td>\n      <td>NaN</td>\n      <td>NaN</td>\n      <td>Entire home/apt</td>\n      <td>NaN</td>\n      <td>NaN</td>\n      <td>NaN</td>\n      <td>07/09/20</td>\n      <td>NaN</td>\n      <td>NaN</td>\n      <td>NaN</td>\n      <td>New York City</td>\n    </tr>\n    <tr>\n      <th>freq</th>\n      <td>NaN</td>\n      <td>21</td>\n      <td>NaN</td>\n      <td>542</td>\n      <td>12006</td>\n      <td>2547</td>\n      <td>NaN</td>\n      <td>NaN</td>\n      <td>44981</td>\n      <td>NaN</td>\n      <td>NaN</td>\n      <td>NaN</td>\n      <td>797</td>\n      <td>NaN</td>\n      <td>NaN</td>\n      <td>NaN</td>\n      <td>28078</td>\n    </tr>\n    <tr>\n      <th>mean</th>\n      <td>2.240598e+07</td>\n      <td>NaN</td>\n      <td>8.194389e+07</td>\n      <td>NaN</td>\n      <td>NaN</td>\n      <td>NaN</td>\n      <td>35.374106</td>\n      <td>-106.259206</td>\n      <td>NaN</td>\n      <td>174.439521</td>\n      <td>10.123996</td>\n      <td>37.759554</td>\n      <td>NaN</td>\n      <td>1.154306</td>\n      <td>12.256419</td>\n      <td>157.939632</td>\n      <td>NaN</td>\n    </tr>\n    <tr>\n      <th>std</th>\n      <td>1.275165e+07</td>\n      <td>NaN</td>\n      <td>9.026877e+07</td>\n      <td>NaN</td>\n      <td>NaN</td>\n      <td>NaN</td>\n      <td>8.091471</td>\n      <td>32.338521</td>\n      <td>NaN</td>\n      <td>309.145709</td>\n      <td>24.162486</td>\n      <td>61.892276</td>\n      <td>NaN</td>\n      <td>1.463953</td>\n      <td>36.338795</td>\n      <td>141.279766</td>\n      <td>NaN</td>\n    </tr>\n    <tr>\n      <th>min</th>\n      <td>1.090000e+02</td>\n      <td>NaN</td>\n      <td>5.210000e+02</td>\n      <td>NaN</td>\n      <td>NaN</td>\n      <td>NaN</td>\n      <td>18.920990</td>\n      <td>-159.714900</td>\n      <td>NaN</td>\n      <td>0.000000</td>\n      <td>1.000000</td>\n      <td>1.000000</td>\n      <td>NaN</td>\n      <td>0.010000</td>\n      <td>1.000000</td>\n      <td>0.000000</td>\n      <td>NaN</td>\n    </tr>\n    <tr>\n      <th>25%</th>\n      <td>1.222313e+07</td>\n      <td>NaN</td>\n      <td>1.073794e+07</td>\n      <td>NaN</td>\n      <td>NaN</td>\n      <td>NaN</td>\n      <td>33.978665</td>\n      <td>-122.306880</td>\n      <td>NaN</td>\n      <td>75.000000</td>\n      <td>2.000000</td>\n      <td>3.000000</td>\n      <td>NaN</td>\n      <td>0.170000</td>\n      <td>1.000000</td>\n      <td>0.000000</td>\n      <td>NaN</td>\n    </tr>\n    <tr>\n      <th>50%</th>\n      <td>2.207866e+07</td>\n      <td>NaN</td>\n      <td>4.331589e+07</td>\n      <td>NaN</td>\n      <td>NaN</td>\n      <td>NaN</td>\n      <td>40.638680</td>\n      <td>-118.170480</td>\n      <td>NaN</td>\n      <td>119.000000</td>\n      <td>3.000000</td>\n      <td>12.000000</td>\n      <td>NaN</td>\n      <td>0.560000</td>\n      <td>1.000000</td>\n      <td>142.000000</td>\n      <td>NaN</td>\n    </tr>\n    <tr>\n      <th>75%</th>\n      <td>3.345157e+07</td>\n      <td>NaN</td>\n      <td>1.314708e+08</td>\n      <td>NaN</td>\n      <td>NaN</td>\n      <td>NaN</td>\n      <td>40.746205</td>\n      <td>-73.955715</td>\n      <td>NaN</td>\n      <td>190.000000</td>\n      <td>7.000000</td>\n      <td>44.000000</td>\n      <td>NaN</td>\n      <td>1.630000</td>\n      <td>4.000000</td>\n      <td>309.000000</td>\n      <td>NaN</td>\n    </tr>\n    <tr>\n      <th>max</th>\n      <td>4.530421e+07</td>\n      <td>NaN</td>\n      <td>3.659646e+08</td>\n      <td>NaN</td>\n      <td>NaN</td>\n      <td>NaN</td>\n      <td>47.734620</td>\n      <td>-71.123420</td>\n      <td>NaN</td>\n      <td>24999.000000</td>\n      <td>1250.000000</td>\n      <td>840.000000</td>\n      <td>NaN</td>\n      <td>33.620000</td>\n      <td>284.000000</td>\n      <td>365.000000</td>\n      <td>NaN</td>\n    </tr>\n  </tbody>\n</table>\n</div>"
     },
     "execution_count": 83,
     "metadata": {},
     "output_type": "execute_result"
    }
   ],
   "source": [
    "train.describe(include='all')"
   ],
   "metadata": {
    "collapsed": false,
    "pycharm": {
     "name": "#%%\n"
    }
   }
  },
  {
   "cell_type": "code",
   "metadata": {
    "colab": {
     "base_uri": "https://localhost:8080/",
     "height": 343
    },
    "id": "aMrVSm-KGSVV",
    "outputId": "009e6b40-24a4-4508-da65-fd7e28145754"
   },
   "source": [
    "X_train.head()"
   ],
   "execution_count": 84,
   "outputs": [
    {
     "data": {
      "text/plain": "        neighbourhood_group  latitude  longitude        room_type  \\\n101437         Other Cities  34.12804 -118.24042  Entire home/apt   \n134849             Brooklyn  40.57577  -73.98553  Entire home/apt   \n75003          Other Cities  34.04065 -118.48329     Private room   \n130659            Manhattan  40.76026  -73.96590     Private room   \n89291   City of Los Angeles  34.14262 -118.40379  Entire home/apt   \n\n        minimum_nights  number_of_reviews  reviews_per_month  \\\n101437               1                 17               4.95   \n134849               1                  8               0.30   \n75003                2                252               3.59   \n130659               1                329               6.43   \n89291               30                 22               0.93   \n\n        calculated_host_listings_count  availability_365           city  \n101437                               1               361    Los Angeles  \n134849                               6               364  New York City  \n75003                                1               360    Los Angeles  \n130659                               1                 0  New York City  \n89291                                1                26    Los Angeles  ",
      "text/html": "<div>\n<style scoped>\n    .dataframe tbody tr th:only-of-type {\n        vertical-align: middle;\n    }\n\n    .dataframe tbody tr th {\n        vertical-align: top;\n    }\n\n    .dataframe thead th {\n        text-align: right;\n    }\n</style>\n<table border=\"1\" class=\"dataframe\">\n  <thead>\n    <tr style=\"text-align: right;\">\n      <th></th>\n      <th>neighbourhood_group</th>\n      <th>latitude</th>\n      <th>longitude</th>\n      <th>room_type</th>\n      <th>minimum_nights</th>\n      <th>number_of_reviews</th>\n      <th>reviews_per_month</th>\n      <th>calculated_host_listings_count</th>\n      <th>availability_365</th>\n      <th>city</th>\n    </tr>\n  </thead>\n  <tbody>\n    <tr>\n      <th>101437</th>\n      <td>Other Cities</td>\n      <td>34.12804</td>\n      <td>-118.24042</td>\n      <td>Entire home/apt</td>\n      <td>1</td>\n      <td>17</td>\n      <td>4.95</td>\n      <td>1</td>\n      <td>361</td>\n      <td>Los Angeles</td>\n    </tr>\n    <tr>\n      <th>134849</th>\n      <td>Brooklyn</td>\n      <td>40.57577</td>\n      <td>-73.98553</td>\n      <td>Entire home/apt</td>\n      <td>1</td>\n      <td>8</td>\n      <td>0.30</td>\n      <td>6</td>\n      <td>364</td>\n      <td>New York City</td>\n    </tr>\n    <tr>\n      <th>75003</th>\n      <td>Other Cities</td>\n      <td>34.04065</td>\n      <td>-118.48329</td>\n      <td>Private room</td>\n      <td>2</td>\n      <td>252</td>\n      <td>3.59</td>\n      <td>1</td>\n      <td>360</td>\n      <td>Los Angeles</td>\n    </tr>\n    <tr>\n      <th>130659</th>\n      <td>Manhattan</td>\n      <td>40.76026</td>\n      <td>-73.96590</td>\n      <td>Private room</td>\n      <td>1</td>\n      <td>329</td>\n      <td>6.43</td>\n      <td>1</td>\n      <td>0</td>\n      <td>New York City</td>\n    </tr>\n    <tr>\n      <th>89291</th>\n      <td>City of Los Angeles</td>\n      <td>34.14262</td>\n      <td>-118.40379</td>\n      <td>Entire home/apt</td>\n      <td>30</td>\n      <td>22</td>\n      <td>0.93</td>\n      <td>1</td>\n      <td>26</td>\n      <td>Los Angeles</td>\n    </tr>\n  </tbody>\n</table>\n</div>"
     },
     "execution_count": 84,
     "metadata": {},
     "output_type": "execute_result"
    }
   ]
  },
  {
   "cell_type": "code",
   "metadata": {
    "id": "H0jxeX0a5R9_",
    "colab": {
     "base_uri": "https://localhost:8080/"
    },
    "outputId": "1cfe020f-8a25-468d-daa9-0ba6f019df2f"
   },
   "source": [
    "# this is a regression problem\n",
    "\n",
    "from sklearn.linear_model import LinearRegression\n",
    "\n",
    "import category_encoders as ce\n",
    "from sklearn.ensemble import RandomForestRegressor\n",
    "from sklearn.pipeline import make_pipeline\n",
    "from sklearn.impute import SimpleImputer\n",
    "\n",
    "# instantiate a pipeline with Simple Imputer and Random Forest Regressor\n",
    "pipeline = make_pipeline(\n",
    "    ce.OneHotEncoder(use_cat_names=True),\n",
    "    LinearRegression()\n",
    ")\n",
    "\n",
    "# fit on train \n",
    "pipeline.fit(X_train, y_train)\n",
    "\n",
    "# print the Test Score\n",
    "print('Test Score:', pipeline.score(X_test, y_test))"
   ],
   "execution_count": 99,
   "outputs": [
    {
     "name": "stdout",
     "output_type": "stream",
     "text": [
      "Test Score: 0.11535529582055715\n"
     ]
    },
    {
     "name": "stderr",
     "output_type": "stream",
     "text": [
      "/home/rob-rog/deps/anaconda3/lib/python3.8/site-packages/category_encoders/utils.py:21: FutureWarning: is_categorical is deprecated and will be removed in a future version.  Use is_categorical_dtype instead\n",
      "  elif pd.api.types.is_categorical(cols):\n"
     ]
    }
   ]
  },
  {
   "cell_type": "code",
   "execution_count": 86,
   "outputs": [
    {
     "data": {
      "text/plain": "       neighbourhood_group  latitude  longitude        room_type  \\\n101437        Other Cities  34.12804 -118.24042  Entire home/apt   \n\n        minimum_nights  number_of_reviews  reviews_per_month  \\\n101437               1                 17               4.95   \n\n        calculated_host_listings_count  availability_365         city  \n101437                               1               361  Los Angeles  ",
      "text/html": "<div>\n<style scoped>\n    .dataframe tbody tr th:only-of-type {\n        vertical-align: middle;\n    }\n\n    .dataframe tbody tr th {\n        vertical-align: top;\n    }\n\n    .dataframe thead th {\n        text-align: right;\n    }\n</style>\n<table border=\"1\" class=\"dataframe\">\n  <thead>\n    <tr style=\"text-align: right;\">\n      <th></th>\n      <th>neighbourhood_group</th>\n      <th>latitude</th>\n      <th>longitude</th>\n      <th>room_type</th>\n      <th>minimum_nights</th>\n      <th>number_of_reviews</th>\n      <th>reviews_per_month</th>\n      <th>calculated_host_listings_count</th>\n      <th>availability_365</th>\n      <th>city</th>\n    </tr>\n  </thead>\n  <tbody>\n    <tr>\n      <th>101437</th>\n      <td>Other Cities</td>\n      <td>34.12804</td>\n      <td>-118.24042</td>\n      <td>Entire home/apt</td>\n      <td>1</td>\n      <td>17</td>\n      <td>4.95</td>\n      <td>1</td>\n      <td>361</td>\n      <td>Los Angeles</td>\n    </tr>\n  </tbody>\n</table>\n</div>"
     },
     "execution_count": 86,
     "metadata": {},
     "output_type": "execute_result"
    }
   ],
   "source": [
    "X_train.head(1)"
   ],
   "metadata": {
    "collapsed": false,
    "pycharm": {
     "name": "#%%\n"
    }
   }
  },
  {
   "cell_type": "code",
   "execution_count": 87,
   "outputs": [
    {
     "data": {
      "text/plain": "Index(['neighbourhood_group', 'latitude', 'longitude', 'room_type',\n       'minimum_nights', 'number_of_reviews', 'reviews_per_month',\n       'calculated_host_listings_count', 'availability_365', 'city'],\n      dtype='object')"
     },
     "execution_count": 87,
     "metadata": {},
     "output_type": "execute_result"
    }
   ],
   "source": [
    "X_train.columns"
   ],
   "metadata": {
    "collapsed": false,
    "pycharm": {
     "name": "#%%\n"
    }
   }
  },
  {
   "cell_type": "code",
   "execution_count": 88,
   "outputs": [
    {
     "data": {
      "text/plain": "101437    124\nName: price, dtype: int64"
     },
     "execution_count": 88,
     "metadata": {},
     "output_type": "execute_result"
    }
   ],
   "source": [
    "y_train.head(1)"
   ],
   "metadata": {
    "collapsed": false,
    "pycharm": {
     "name": "#%%\n"
    }
   }
  },
  {
   "cell_type": "code",
   "execution_count": 89,
   "outputs": [
    {
     "data": {
      "text/plain": "array([150.96])"
     },
     "execution_count": 89,
     "metadata": {},
     "output_type": "execute_result"
    }
   ],
   "source": [
    "# making a prediction and seeing the difference from actual on a test data\n",
    "\n",
    "sample_data = {'neighbourhood_group': 'Other Cities', 'latitude': 34.12804, 'longitude': -118.24042,\n",
    "               'room_type': 'Entire home/apt', 'minimum_nights': 1, 'number_of_reviews': 17, 'reviews_per_month': 4.95,\n",
    "               'calculated_host_listings_count': 1, 'availability_365': 361, 'city': 'Los Angeles'}\n",
    "\n",
    "sample_data\n",
    "\n",
    "# change the dictionary to dataframe\n",
    "sample_data_df = pd.DataFrame([sample_data])\n",
    "\n",
    "y_pred = pipeline.predict(sample_data_df)\n",
    "y_pred"
   ],
   "metadata": {
    "collapsed": false,
    "pycharm": {
     "name": "#%%\n"
    }
   }
  },
  {
   "cell_type": "code",
   "execution_count": 90,
   "outputs": [
    {
     "data": {
      "text/plain": "  neighbourhood_group  latitude  longitude        room_type  minimum_nights  \\\n0        Other Cities  34.12804 -118.24042  Entire home/apt               1   \n\n   number_of_reviews  reviews_per_month  calculated_host_listings_count  \\\n0                 17               4.95                               1   \n\n   availability_365         city  \n0               361  Los Angeles  ",
      "text/html": "<div>\n<style scoped>\n    .dataframe tbody tr th:only-of-type {\n        vertical-align: middle;\n    }\n\n    .dataframe tbody tr th {\n        vertical-align: top;\n    }\n\n    .dataframe thead th {\n        text-align: right;\n    }\n</style>\n<table border=\"1\" class=\"dataframe\">\n  <thead>\n    <tr style=\"text-align: right;\">\n      <th></th>\n      <th>neighbourhood_group</th>\n      <th>latitude</th>\n      <th>longitude</th>\n      <th>room_type</th>\n      <th>minimum_nights</th>\n      <th>number_of_reviews</th>\n      <th>reviews_per_month</th>\n      <th>calculated_host_listings_count</th>\n      <th>availability_365</th>\n      <th>city</th>\n    </tr>\n  </thead>\n  <tbody>\n    <tr>\n      <th>0</th>\n      <td>Other Cities</td>\n      <td>34.12804</td>\n      <td>-118.24042</td>\n      <td>Entire home/apt</td>\n      <td>1</td>\n      <td>17</td>\n      <td>4.95</td>\n      <td>1</td>\n      <td>361</td>\n      <td>Los Angeles</td>\n    </tr>\n  </tbody>\n</table>\n</div>"
     },
     "execution_count": 90,
     "metadata": {},
     "output_type": "execute_result"
    }
   ],
   "source": [
    "sample_data_df"
   ],
   "metadata": {
    "collapsed": false,
    "pycharm": {
     "name": "#%%\n"
    }
   }
  },
  {
   "cell_type": "code",
   "execution_count": 100,
   "outputs": [
    {
     "data": {
      "text/plain": "['pipeline.joblib']"
     },
     "execution_count": 100,
     "metadata": {},
     "output_type": "execute_result"
    }
   ],
   "source": [
    "from joblib import dump\n",
    "\n",
    "dump(pipeline, 'pipeline.joblib', compress=True)"
   ],
   "metadata": {
    "collapsed": false,
    "pycharm": {
     "name": "#%%\n"
    }
   }
  },
  {
   "cell_type": "code",
   "metadata": {
    "id": "9EhfZ98I_I7i"
   },
   "source": [
    "!ls -lh"
   ],
   "execution_count": 92,
   "outputs": [
    {
     "name": "stdout",
     "output_type": "stream",
     "text": [
      "total 233M\r\n",
      "-rw-rw-r-- 1 rob-rog rob-rog  35M Apr 25 23:09 AB_US_2020.csv\r\n",
      "-rw-rw-r-- 1 rob-rog rob-rog  35M Apr 25 23:30 AB_US_2020.csv.1\r\n",
      "-rw-rw-r-- 1 rob-rog rob-rog  35M Apr 25 23:44 AB_US_2020.csv.2\r\n",
      "-rw-rw-r-- 1 rob-rog rob-rog  35M Apr 26 00:31 AB_US_2020.csv.3\r\n",
      "-rw-rw-r-- 1 rob-rog rob-rog 337K Apr 24 22:37 Model_deployment_with_FastAPI.ipynb\r\n",
      "-rw-rw-r-- 1 rob-rog rob-rog  96M Apr 26 00:31 pipeline.joblib\r\n",
      "-rw-rw-r-- 1 rob-rog rob-rog  47K Apr 26 00:31 Unit3ProjectAbdiWork.ipynb\r\n"
     ]
    }
   ]
  },
  {
   "cell_type": "code",
   "metadata": {
    "id": "nZoPprp0_I-p"
   },
   "source": [
    "X_train.describe(include='all')"
   ],
   "execution_count": 95,
   "outputs": [
    {
     "data": {
      "text/plain": "       neighbourhood_group      latitude     longitude        room_type  \\\ncount                68115  68115.000000  68115.000000            68115   \nunique                  34           NaN           NaN                4   \ntop              Manhattan           NaN           NaN  Entire home/apt   \nfreq                 12006           NaN           NaN            44981   \nmean                   NaN     35.374106   -106.259206              NaN   \nstd                    NaN      8.091471     32.338521              NaN   \nmin                    NaN     18.920990   -159.714900              NaN   \n25%                    NaN     33.978665   -122.306880              NaN   \n50%                    NaN     40.638680   -118.170480              NaN   \n75%                    NaN     40.746205    -73.955715              NaN   \nmax                    NaN     47.734620    -71.123420              NaN   \n\n        minimum_nights  number_of_reviews  reviews_per_month  \\\ncount     68115.000000       68115.000000       68115.000000   \nunique             NaN                NaN                NaN   \ntop                NaN                NaN                NaN   \nfreq               NaN                NaN                NaN   \nmean         10.123996          37.759554           1.154306   \nstd          24.162486          61.892276           1.463953   \nmin           1.000000           1.000000           0.010000   \n25%           2.000000           3.000000           0.170000   \n50%           3.000000          12.000000           0.560000   \n75%           7.000000          44.000000           1.630000   \nmax        1250.000000         840.000000          33.620000   \n\n        calculated_host_listings_count  availability_365           city  \ncount                     68115.000000      68115.000000          68115  \nunique                             NaN               NaN              5  \ntop                                NaN               NaN  New York City  \nfreq                               NaN               NaN          28078  \nmean                         12.256419        157.939632            NaN  \nstd                          36.338795        141.279766            NaN  \nmin                           1.000000          0.000000            NaN  \n25%                           1.000000          0.000000            NaN  \n50%                           1.000000        142.000000            NaN  \n75%                           4.000000        309.000000            NaN  \nmax                         284.000000        365.000000            NaN  ",
      "text/html": "<div>\n<style scoped>\n    .dataframe tbody tr th:only-of-type {\n        vertical-align: middle;\n    }\n\n    .dataframe tbody tr th {\n        vertical-align: top;\n    }\n\n    .dataframe thead th {\n        text-align: right;\n    }\n</style>\n<table border=\"1\" class=\"dataframe\">\n  <thead>\n    <tr style=\"text-align: right;\">\n      <th></th>\n      <th>neighbourhood_group</th>\n      <th>latitude</th>\n      <th>longitude</th>\n      <th>room_type</th>\n      <th>minimum_nights</th>\n      <th>number_of_reviews</th>\n      <th>reviews_per_month</th>\n      <th>calculated_host_listings_count</th>\n      <th>availability_365</th>\n      <th>city</th>\n    </tr>\n  </thead>\n  <tbody>\n    <tr>\n      <th>count</th>\n      <td>68115</td>\n      <td>68115.000000</td>\n      <td>68115.000000</td>\n      <td>68115</td>\n      <td>68115.000000</td>\n      <td>68115.000000</td>\n      <td>68115.000000</td>\n      <td>68115.000000</td>\n      <td>68115.000000</td>\n      <td>68115</td>\n    </tr>\n    <tr>\n      <th>unique</th>\n      <td>34</td>\n      <td>NaN</td>\n      <td>NaN</td>\n      <td>4</td>\n      <td>NaN</td>\n      <td>NaN</td>\n      <td>NaN</td>\n      <td>NaN</td>\n      <td>NaN</td>\n      <td>5</td>\n    </tr>\n    <tr>\n      <th>top</th>\n      <td>Manhattan</td>\n      <td>NaN</td>\n      <td>NaN</td>\n      <td>Entire home/apt</td>\n      <td>NaN</td>\n      <td>NaN</td>\n      <td>NaN</td>\n      <td>NaN</td>\n      <td>NaN</td>\n      <td>New York City</td>\n    </tr>\n    <tr>\n      <th>freq</th>\n      <td>12006</td>\n      <td>NaN</td>\n      <td>NaN</td>\n      <td>44981</td>\n      <td>NaN</td>\n      <td>NaN</td>\n      <td>NaN</td>\n      <td>NaN</td>\n      <td>NaN</td>\n      <td>28078</td>\n    </tr>\n    <tr>\n      <th>mean</th>\n      <td>NaN</td>\n      <td>35.374106</td>\n      <td>-106.259206</td>\n      <td>NaN</td>\n      <td>10.123996</td>\n      <td>37.759554</td>\n      <td>1.154306</td>\n      <td>12.256419</td>\n      <td>157.939632</td>\n      <td>NaN</td>\n    </tr>\n    <tr>\n      <th>std</th>\n      <td>NaN</td>\n      <td>8.091471</td>\n      <td>32.338521</td>\n      <td>NaN</td>\n      <td>24.162486</td>\n      <td>61.892276</td>\n      <td>1.463953</td>\n      <td>36.338795</td>\n      <td>141.279766</td>\n      <td>NaN</td>\n    </tr>\n    <tr>\n      <th>min</th>\n      <td>NaN</td>\n      <td>18.920990</td>\n      <td>-159.714900</td>\n      <td>NaN</td>\n      <td>1.000000</td>\n      <td>1.000000</td>\n      <td>0.010000</td>\n      <td>1.000000</td>\n      <td>0.000000</td>\n      <td>NaN</td>\n    </tr>\n    <tr>\n      <th>25%</th>\n      <td>NaN</td>\n      <td>33.978665</td>\n      <td>-122.306880</td>\n      <td>NaN</td>\n      <td>2.000000</td>\n      <td>3.000000</td>\n      <td>0.170000</td>\n      <td>1.000000</td>\n      <td>0.000000</td>\n      <td>NaN</td>\n    </tr>\n    <tr>\n      <th>50%</th>\n      <td>NaN</td>\n      <td>40.638680</td>\n      <td>-118.170480</td>\n      <td>NaN</td>\n      <td>3.000000</td>\n      <td>12.000000</td>\n      <td>0.560000</td>\n      <td>1.000000</td>\n      <td>142.000000</td>\n      <td>NaN</td>\n    </tr>\n    <tr>\n      <th>75%</th>\n      <td>NaN</td>\n      <td>40.746205</td>\n      <td>-73.955715</td>\n      <td>NaN</td>\n      <td>7.000000</td>\n      <td>44.000000</td>\n      <td>1.630000</td>\n      <td>4.000000</td>\n      <td>309.000000</td>\n      <td>NaN</td>\n    </tr>\n    <tr>\n      <th>max</th>\n      <td>NaN</td>\n      <td>47.734620</td>\n      <td>-71.123420</td>\n      <td>NaN</td>\n      <td>1250.000000</td>\n      <td>840.000000</td>\n      <td>33.620000</td>\n      <td>284.000000</td>\n      <td>365.000000</td>\n      <td>NaN</td>\n    </tr>\n  </tbody>\n</table>\n</div>"
     },
     "execution_count": 95,
     "metadata": {},
     "output_type": "execute_result"
    }
   ]
  },
  {
   "cell_type": "code",
   "execution_count": 94,
   "outputs": [
    {
     "data": {
      "text/plain": "Index(['neighbourhood_group', 'latitude', 'longitude', 'room_type',\n       'minimum_nights', 'number_of_reviews', 'reviews_per_month',\n       'calculated_host_listings_count', 'availability_365', 'city'],\n      dtype='object')"
     },
     "execution_count": 94,
     "metadata": {},
     "output_type": "execute_result"
    }
   ],
   "source": [
    "X_test.columns"
   ],
   "metadata": {
    "collapsed": false,
    "pycharm": {
     "name": "#%%\n"
    }
   }
  },
  {
   "cell_type": "code",
   "metadata": {
    "id": "LM2UVidw_JCF"
   },
   "source": [
    "# making sure the data is passed in a certain way\n",
    "\n",
    "from pydantic import BaseModel, confloat, constr, conint\n",
    "\n",
    "\n",
    "class Airbnb(BaseModel):\n",
    "    neighbourhood_group: constr(),\n",
    "    latitude: confloat(gt=18, le=48),\n",
    "    longitude: confloat(gt=-106, le=-72),\n",
    "    room_type: constr(),\n",
    "    minimum_nights: conint(gt=1, le=1250),\n",
    "    number_of_reviews: conint(gt=1, le=840),\n",
    "    reviews_per_month: confloat(gt=0.01, le=34),\n",
    "    calculated_host_listings_count: conint(gt=1, le=284),\n",
    "    availability_365: conint(gt=0, le=365),\n",
    "    city: constr()\n",
    "\n",
    "    def to_df(self):\n",
    "        return pd.DataFrame([dict(self)])\n",
    "\n"
   ],
   "execution_count": 93,
   "outputs": []
  },
  {
   "cell_type": "code",
   "execution_count": null,
   "outputs": [],
   "source": [
    "{\n",
    "    \"neighbourhood_group\": \"Other Cities\",\n",
    "    \"latitude\": 34.12804,\n",
    "    \"longitude\": -118.24042,\n",
    "    \"room_type\": \"Entire home/apt\",\n",
    "    \"minimum_nights\": 1,\n",
    "    \"number_of_reviews\": 17,\n",
    "    \"reviews_per_month\": 4.95,\n",
    "    \"calculated_host_listings_count\": 1,\n",
    "    \"availability_365\": 361,\n",
    "    \"city\": \"Los Angeles\"\n",
    "}\n",
    "\n",
    "\n",
    "{\n",
    "  \"neighbourhood_group\": \"Other Cities\",\n",
    "  \"latitude\": 34.12804,\n",
    "  \"longitude\": -118.2402,\n",
    "  \"room_type\": \"Entire home/apt\",\n",
    "  \"minimum_nights\": 1,\n",
    "  \"number_of_reviews\": 17,\n",
    "  \"reviews_per_month\": 4.95,\n",
    "  \"calculated_host_listings_count\": 1,\n",
    "  \"availability_365\": 361,\n",
    "  \"city\": \"Los Angeles\"\n",
    "}"
   ],
   "metadata": {
    "collapsed": false,
    "pycharm": {
     "name": "#%%\n"
    }
   }
  }
 ]
}